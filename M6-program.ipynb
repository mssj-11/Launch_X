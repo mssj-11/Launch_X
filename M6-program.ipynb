{
 "cells": [
  {
   "cell_type": "code",
   "execution_count": null,
   "metadata": {},
   "outputs": [],
   "source": [
    "#Ejercicio1: Crear y usar listas de Python\n",
    "#Ejercicio: Usar listas para almacenar nombres de planetas"
   ]
  },
  {
   "cell_type": "markdown",
   "metadata": {},
   "source": [
    "Ejercicio1: Crear y usar listas de Python"
   ]
  },
  {
   "cell_type": "code",
   "execution_count": 13,
   "metadata": {},
   "outputs": [
    {
     "name": "stdout",
     "output_type": "stream",
     "text": [
      "Hay  8 planetas existentes\n"
     ]
    }
   ],
   "source": [
    "# Creamos la lista planets y la mostramos\n",
    "\n",
    "planets = ['Mercurio', 'Venus', 'Tierra', 'Marte', 'Jupiter', 'Saturno', 'Urano', 'Neptuno']\n",
    "\n",
    "print('Hay ', len(planets), 'planetas existentes')"
   ]
  },
  {
   "cell_type": "code",
   "execution_count": 14,
   "metadata": {},
   "outputs": [
    {
     "name": "stdout",
     "output_type": "stream",
     "text": [
      "Hay  9 planetas existentes Y  Pluton es el último planeta de la lista\n"
     ]
    }
   ],
   "source": [
    "# Agregamos a plutón y mostramos el último elemento\n",
    "\n",
    "planets.append('Pluton')\n",
    "\n",
    "print('Hay ', len(planets), 'planetas existentes' , 'Y ' , planets[-1], 'es el último planeta de la lista')"
   ]
  },
  {
   "cell_type": "code",
   "execution_count": null,
   "metadata": {},
   "outputs": [],
   "source": [
    "#Ejercicio 2: Trabajando con datos de una lista\n",
    "#Usar slices para recuperar partes de una lista\n"
   ]
  },
  {
   "cell_type": "markdown",
   "metadata": {},
   "source": [
    "Ejercicio 2: Trabajando con datos de una lista"
   ]
  },
  {
   "cell_type": "code",
   "execution_count": 1,
   "metadata": {},
   "outputs": [],
   "source": [
    "# Lista de planetas\n",
    "planets = ['Mercurio', 'Venus', 'Tierra', 'Marte', 'Jupiter', 'Saturno', 'Urano', 'Neptuno']"
   ]
  },
  {
   "cell_type": "code",
   "execution_count": 2,
   "metadata": {},
   "outputs": [
    {
     "ename": "KeyboardInterrupt",
     "evalue": "Interrupted by user",
     "output_type": "error",
     "traceback": [
      "\u001b[1;31m---------------------------------------------------------------------------\u001b[0m",
      "\u001b[1;31mKeyboardInterrupt\u001b[0m                         Traceback (most recent call last)",
      "\u001b[1;32mc:\\Users\\HP\\Desktop\\Launch X\\Week 1\\M6-program.ipynb Cell 8'\u001b[0m in \u001b[0;36m<module>\u001b[1;34m\u001b[0m\n\u001b[0;32m      <a href='vscode-notebook-cell:/c%3A/Users/HP/Desktop/Launch%20X/Week%201/M6-program.ipynb#ch0000007?line=0'>1</a>\u001b[0m \u001b[39m# Solicitamos el nombre de un planeta *Pista:  input()*\u001b[39;00m\n\u001b[1;32m----> <a href='vscode-notebook-cell:/c%3A/Users/HP/Desktop/Launch%20X/Week%201/M6-program.ipynb#ch0000007?line=1'>2</a>\u001b[0m user_planet \u001b[39m=\u001b[39m \u001b[39minput\u001b[39;49m(\u001b[39m'\u001b[39;49m\u001b[39mPlease enter the name of the planet (with a capital letter to start)\u001b[39;49m\u001b[39m'\u001b[39;49m)\n",
      "File \u001b[1;32m~\\MIKE_ISC\\Python39\\lib\\site-packages\\ipykernel\\kernelbase.py:1062\u001b[0m, in \u001b[0;36mKernel.raw_input\u001b[1;34m(self, prompt)\u001b[0m\n\u001b[0;32m   <a href='file:///~/MIKE_ISC/Python39/lib/site-packages/ipykernel/kernelbase.py?line=1057'>1058</a>\u001b[0m \u001b[39mif\u001b[39;00m \u001b[39mnot\u001b[39;00m \u001b[39mself\u001b[39m\u001b[39m.\u001b[39m_allow_stdin:\n\u001b[0;32m   <a href='file:///~/MIKE_ISC/Python39/lib/site-packages/ipykernel/kernelbase.py?line=1058'>1059</a>\u001b[0m     \u001b[39mraise\u001b[39;00m StdinNotImplementedError(\n\u001b[0;32m   <a href='file:///~/MIKE_ISC/Python39/lib/site-packages/ipykernel/kernelbase.py?line=1059'>1060</a>\u001b[0m         \u001b[39m\"\u001b[39m\u001b[39mraw_input was called, but this frontend does not support input requests.\u001b[39m\u001b[39m\"\u001b[39m\n\u001b[0;32m   <a href='file:///~/MIKE_ISC/Python39/lib/site-packages/ipykernel/kernelbase.py?line=1060'>1061</a>\u001b[0m     )\n\u001b[1;32m-> <a href='file:///~/MIKE_ISC/Python39/lib/site-packages/ipykernel/kernelbase.py?line=1061'>1062</a>\u001b[0m \u001b[39mreturn\u001b[39;00m \u001b[39mself\u001b[39;49m\u001b[39m.\u001b[39;49m_input_request(\n\u001b[0;32m   <a href='file:///~/MIKE_ISC/Python39/lib/site-packages/ipykernel/kernelbase.py?line=1062'>1063</a>\u001b[0m     \u001b[39mstr\u001b[39;49m(prompt),\n\u001b[0;32m   <a href='file:///~/MIKE_ISC/Python39/lib/site-packages/ipykernel/kernelbase.py?line=1063'>1064</a>\u001b[0m     \u001b[39mself\u001b[39;49m\u001b[39m.\u001b[39;49m_parent_ident[\u001b[39m\"\u001b[39;49m\u001b[39mshell\u001b[39;49m\u001b[39m\"\u001b[39;49m],\n\u001b[0;32m   <a href='file:///~/MIKE_ISC/Python39/lib/site-packages/ipykernel/kernelbase.py?line=1064'>1065</a>\u001b[0m     \u001b[39mself\u001b[39;49m\u001b[39m.\u001b[39;49mget_parent(\u001b[39m\"\u001b[39;49m\u001b[39mshell\u001b[39;49m\u001b[39m\"\u001b[39;49m),\n\u001b[0;32m   <a href='file:///~/MIKE_ISC/Python39/lib/site-packages/ipykernel/kernelbase.py?line=1065'>1066</a>\u001b[0m     password\u001b[39m=\u001b[39;49m\u001b[39mFalse\u001b[39;49;00m,\n\u001b[0;32m   <a href='file:///~/MIKE_ISC/Python39/lib/site-packages/ipykernel/kernelbase.py?line=1066'>1067</a>\u001b[0m )\n",
      "File \u001b[1;32m~\\MIKE_ISC\\Python39\\lib\\site-packages\\ipykernel\\kernelbase.py:1107\u001b[0m, in \u001b[0;36mKernel._input_request\u001b[1;34m(self, prompt, ident, parent, password)\u001b[0m\n\u001b[0;32m   <a href='file:///~/MIKE_ISC/Python39/lib/site-packages/ipykernel/kernelbase.py?line=1103'>1104</a>\u001b[0m             \u001b[39mbreak\u001b[39;00m\n\u001b[0;32m   <a href='file:///~/MIKE_ISC/Python39/lib/site-packages/ipykernel/kernelbase.py?line=1104'>1105</a>\u001b[0m \u001b[39mexcept\u001b[39;00m \u001b[39mKeyboardInterrupt\u001b[39;00m:\n\u001b[0;32m   <a href='file:///~/MIKE_ISC/Python39/lib/site-packages/ipykernel/kernelbase.py?line=1105'>1106</a>\u001b[0m     \u001b[39m# re-raise KeyboardInterrupt, to truncate traceback\u001b[39;00m\n\u001b[1;32m-> <a href='file:///~/MIKE_ISC/Python39/lib/site-packages/ipykernel/kernelbase.py?line=1106'>1107</a>\u001b[0m     \u001b[39mraise\u001b[39;00m \u001b[39mKeyboardInterrupt\u001b[39;00m(\u001b[39m\"\u001b[39m\u001b[39mInterrupted by user\u001b[39m\u001b[39m\"\u001b[39m) \u001b[39mfrom\u001b[39;00m \u001b[39mNone\u001b[39m\n\u001b[0;32m   <a href='file:///~/MIKE_ISC/Python39/lib/site-packages/ipykernel/kernelbase.py?line=1107'>1108</a>\u001b[0m \u001b[39mexcept\u001b[39;00m \u001b[39mException\u001b[39;00m:\n\u001b[0;32m   <a href='file:///~/MIKE_ISC/Python39/lib/site-packages/ipykernel/kernelbase.py?line=1108'>1109</a>\u001b[0m     \u001b[39mself\u001b[39m\u001b[39m.\u001b[39mlog\u001b[39m.\u001b[39mwarning(\u001b[39m\"\u001b[39m\u001b[39mInvalid Message:\u001b[39m\u001b[39m\"\u001b[39m, exc_info\u001b[39m=\u001b[39m\u001b[39mTrue\u001b[39;00m)\n",
      "\u001b[1;31mKeyboardInterrupt\u001b[0m: Interrupted by user"
     ]
    }
   ],
   "source": [
    "# Solicitamos el nombre de un planeta *Pista:  input()*\n",
    "user_planet = input('Ingresa el nombre de un planeta empezando con letra (Mayuscula)')"
   ]
  },
  {
   "cell_type": "code",
   "execution_count": null,
   "metadata": {},
   "outputs": [],
   "source": [
    "# Busca el planeta en la lista\n",
    "planet_index = planets.index(user_planet)"
   ]
  },
  {
   "cell_type": "code",
   "execution_count": null,
   "metadata": {},
   "outputs": [],
   "source": [
    "# Muestra los planetas más cercanos al sol\n",
    "\n",
    "print('El planeta mas cercano ' + user_planet, ' al sol')\n",
    "print(planets[0:planet_index])"
   ]
  },
  {
   "cell_type": "code",
   "execution_count": null,
   "metadata": {},
   "outputs": [],
   "source": [
    "# Muestra los planetas más lejanos al sol\n",
    "\n",
    "print('Los planetas mas lejanos  ' + user_planet, ' al sol')\n",
    "print(planets[planet_index + 1:])"
   ]
  }
 ],
 "metadata": {
  "interpreter": {
   "hash": "64031434abd2fa5e35ee83ed0f3f03873de8692a0aa8012eea3ac31967a9f713"
  },
  "kernelspec": {
   "display_name": "Python 3.9.5 64-bit",
   "language": "python",
   "name": "python3"
  },
  "language_info": {
   "codemirror_mode": {
    "name": "ipython",
    "version": 3
   },
   "file_extension": ".py",
   "mimetype": "text/x-python",
   "name": "python",
   "nbconvert_exporter": "python",
   "pygments_lexer": "ipython3",
   "version": "3.9.5"
  },
  "orig_nbformat": 4
 },
 "nbformat": 4,
 "nbformat_minor": 2
}
